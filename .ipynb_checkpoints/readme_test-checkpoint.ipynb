{
 "cells": [
  {
   "cell_type": "markdown",
   "metadata": {},
   "source": [
    "## Hyper-Parameter Optimizations w/ Optuna - Streamlit and Random Forest"
   ]
  },
  {
   "cell_type": "markdown",
   "metadata": {},
   "source": [
    "### Want to learn how this App works? [Blog Post](https://medium.com/@enesblog/optuna-ve-streamlit-ile-hiper-parametre-optimizasyonu-random-forest-f831db7ec405) - [Turkish]  "
   ]
  },
  {
   "cell_type": "markdown",
   "metadata": {},
   "source": [
    "![fullscreen](images/app_full_ss.png)"
   ]
  },
  {
   "cell_type": "markdown",
   "metadata": {},
   "source": [
    "#### Built With\n",
    "\n",
    "- Streamlit\n",
    "- Optuna\n",
    "- Sklearn\n",
    "- Pandas\n",
    "- Matplotlib\n",
    "- Numpy\n",
    "- Plotly\n",
    "\n",
    "#### Data\n",
    "\n",
    "- [The Iris Dataset](https://scikit-learn.org/stable/auto_examples/datasets/plot_iris_dataset.html)\n",
    "\n",
    "#### Models \n",
    "\n",
    "- [RandomForestClassifier](https://scikit-learn.org/stable/modules/generated/sklearn.ensemble.RandomForestClassifier.html)\n",
    "\n",
    "#### Author\n",
    "\n",
    "- Enes Çavuş - [LinkedIn](https://www.linkedin.com/in/enes-cavus)"
   ]
  },
  {
   "cell_type": "markdown",
   "metadata": {},
   "source": []
  },
  {
   "cell_type": "code",
   "execution_count": null,
   "metadata": {},
   "outputs": [],
   "source": []
  }
 ],
 "metadata": {
  "kernelspec": {
   "display_name": "Python 3 (ipykernel)",
   "language": "python",
   "name": "python3"
  },
  "language_info": {
   "codemirror_mode": {
    "name": "ipython",
    "version": 3
   },
   "file_extension": ".py",
   "mimetype": "text/x-python",
   "name": "python",
   "nbconvert_exporter": "python",
   "pygments_lexer": "ipython3",
   "version": "3.8.1"
  }
 },
 "nbformat": 4,
 "nbformat_minor": 2
}
